{
 "cells": [
  {
   "cell_type": "code",
   "execution_count": 6,
   "metadata": {
    "collapsed": true
   },
   "outputs": [],
   "source": [
    "import matplotlib.pyplot as plt\n",
    "import tensorflow as tf\n",
    "import numpy as np\n",
    "import math\n",
    "import pandas as pd\n",
    "import pickle\n",
    "from tensorflow.python.keras.models import Sequential\n",
    "from tensorflow.python.keras.layers import InputLayer, Input\n",
    "from tensorflow.python.keras.layers import Reshape, MaxPooling2D\n",
    "from tensorflow.python.keras.layers import Conv2D, Dense, Flatten"
   ]
  },
  {
   "cell_type": "code",
   "execution_count": 41,
   "metadata": {},
   "outputs": [],
   "source": [
    "#emotion = {'Angry': 0, 'Disgust': 1, 'Fear': 2, 'Happy': 3,\n",
    "#           'Sad': 4, 'Surprise': 5, 'Neutral': 6, 'Contempt':7}"
   ]
  },
  {
   "cell_type": "code",
   "execution_count": 57,
   "metadata": {},
   "outputs": [],
   "source": [
    "with open('../imagelist.pkl', 'rb') as fin:\n",
    "    kaggle_pkl = pickle.load(fin)"
   ]
  },
  {
   "cell_type": "code",
   "execution_count": 75,
   "metadata": {},
   "outputs": [
    {
     "data": {
      "text/plain": [
       "'Angry'"
      ]
     },
     "execution_count": 75,
     "metadata": {},
     "output_type": "execute_result"
    }
   ],
   "source": [
    "kaggle_pkl[0][0]"
   ]
  },
  {
   "cell_type": "code",
   "execution_count": 81,
   "metadata": {},
   "outputs": [
    {
     "data": {
      "text/plain": [
       "[array([  70.,   80.,   82., ...,  106.,  109.,   82.]),\n array([ 151.,  150.,  147., ...,  193.,  183.,  184.]),\n array([ 231.,  212.,  156., ...,   88.,  110.,  152.]),\n array([  24.,   32.,   36., ...,  142.,  143.,  142.]),\n array([  4.,   0.,   0., ...,  30.,  29.,  30.]),\n array([ 55.,  55.,  55., ...,  34.,  30.,  57.]),\n array([  20.,   17.,   19., ...,   99.,  107.,  118.]),\n array([  77.,   78.,   79., ...,  125.,   67.,   68.]),\n array([ 85.,  84.,  90., ...,  58.,  73.,  84.]),\n array([ 255.,  254.,  255., ...,  254.,  255.,  255.]),\n array([  30.,   24.,   21., ...,  172.,  173.,  173.]),\n array([ 39.,  75.,  78., ...,  84.,  83.,  87.]),\n array([ 219.,  213.,  206., ...,    0.,    0.,    0.]),\n array([ 148.,  144.,  130., ...,  112.,  111.,  111.]),\n array([  4.,   2.,  13., ...,   3.,   7.,  12.]),\n array([ 107.,  107.,  109., ...,   83.,   84.,  106.]),\n array([ 14.,  14.,  18., ...,   9.,  10.,  10.]),\n array([ 255.,  255.,  255., ...,   79.,   79.,   83.]),\n array([ 134.,  124.,  167., ...,   34.,   28.,  139.]),\n array([ 219.,  192.,  179., ...,   57.,   39.,   40.])]"
      ]
     },
     "execution_count": 81,
     "metadata": {},
     "output_type": "execute_result"
    }
   ],
   "source": [
    "kaggle_img = [np.asarray(item[1]) for item in kaggle_pkl]\n",
    "kaggle_img"
   ]
  },
  {
   "cell_type": "code",
   "execution_count": 45,
   "metadata": {},
   "outputs": [],
   "source": [
    "#kaggle_img = [np.asarray(item[1]) for item in kaggle_pkl]\n",
    "#kaggle_label = [np.asarray(item[0]) for item in kaggle_pkl]\n",
    "#kaggle_label = pd.DataFrame(kaggle_label, columns = ['emotion'])\n",
    "#kaggle_img = kaggle_pkl['pixels'].as_matrix()\n",
    "#kaggle_label = kaggle_pkl['emotion']"
   ]
  },
  {
   "cell_type": "code",
   "execution_count": 84,
   "metadata": {},
   "outputs": [],
   "source": [
    "temp_list = []\n",
    "[temp_list.append(list(item)) for item in kaggle_img]\n",
    "kaggle_img_train= np.array(temp_list)"
   ]
  },
  {
   "cell_type": "code",
   "execution_count": 86,
   "metadata": {},
   "outputs": [],
   "source": [
    "kaggle_label = [np.asarray(item[0]) for item in kaggle_pkl]\n",
    "kaggle_label = pd.DataFrame(kaggle_label, columns = ['emotion'])"
   ]
  },
  {
   "cell_type": "code",
   "execution_count": 89,
   "metadata": {},
   "outputs": [],
   "source": [
    "kaggle_label_dummy = pd.get_dummies(kaggle_label, columns = kaggle_label)\n",
    "kaggle_label_dummy = np.array(kaggle_label_dummy)"
   ]
  },
  {
   "cell_type": "code",
   "execution_count": 92,
   "metadata": {},
   "outputs": [],
   "source": [
    "kaggle_label_target = np.argmax(np.array(kaggle_label_dummy, dtype=pd.Series),axis=1)\n",
    "kaggle_label_text = kaggle_label.emotion.tolist()"
   ]
  },
  {
   "cell_type": "code",
   "execution_count": 96,
   "metadata": {},
   "outputs": [],
   "source": [
    ""
   ]
  },
  {
   "cell_type": "code",
   "execution_count": null,
   "metadata": {},
   "outputs": [],
   "source": [
    ""
   ]
  },
  {
   "cell_type": "code",
   "execution_count": null,
   "metadata": {},
   "outputs": [],
   "source": [
    ""
   ]
  }
 ],
 "metadata": {
  "kernelspec": {
   "display_name": "Python 2",
   "language": "python",
   "name": "python2"
  },
  "language_info": {
   "codemirror_mode": {
    "name": "ipython",
    "version": 2.0
   },
   "file_extension": ".py",
   "mimetype": "text/x-python",
   "name": "python",
   "nbconvert_exporter": "python",
   "pygments_lexer": "ipython2",
   "version": "2.7.6"
  }
 },
 "nbformat": 4,
 "nbformat_minor": 0
}